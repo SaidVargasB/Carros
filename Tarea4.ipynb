{
  "nbformat": 4,
  "nbformat_minor": 0,
  "metadata": {
    "colab": {
      "name": "Tarea4.ipynb",
      "provenance": [],
      "authorship_tag": "ABX9TyObILLXdMct7BPfkZFyjyBk",
      "include_colab_link": true
    },
    "kernelspec": {
      "name": "python3",
      "display_name": "Python 3"
    },
    "language_info": {
      "name": "python"
    }
  },
  "cells": [
    {
      "cell_type": "markdown",
      "metadata": {
        "id": "view-in-github",
        "colab_type": "text"
      },
      "source": [
        "<a href=\"https://colab.research.google.com/github/SaidVargasB/Carros/blob/master/Tarea4.ipynb\" target=\"_parent\"><img src=\"https://colab.research.google.com/assets/colab-badge.svg\" alt=\"Open In Colab\"/></a>"
      ]
    },
    {
      "cell_type": "code",
      "metadata": {
        "colab": {
          "base_uri": "https://localhost:8080/"
        },
        "id": "EMOCTnZqVWX0",
        "outputId": "3cbc3e81-7538-4be4-9d6e-d25d3bd1321d"
      },
      "source": [
        "from math import sqrt\n",
        "\n",
        "A = float(input(\"Agregue el coeficiente de la variable cuadrática\\n\"))\n",
        "B = float(input(\"Agregue el coeficiente de la variable lineal\\n\"))\n",
        "C = float(input(\"Agregue el término independiente\\n\"))\n",
        "x1= 0\n",
        "x2= 0\n",
        "\n",
        "if A!=0:\n",
        "    x1 = (-B + sqrt(B ** 2 - (4 * A * C))) / (2 * A)\n",
        "    x2 = (-B - sqrt(B ** 2 - (4 * A * C))) / (2 * A)\n",
        "    print(\"La solución de la ecuación es: \")\n",
        "    print(\"Valor de x1: \")\n",
        "    print(x1)\n",
        "    print(\"Valor de x2: \")\n",
        "    print(x2)\n",
        "if A==0:\n",
        "    print(\"El valor no puede ser 0. Intente nuevamente.\")\n"
      ],
      "execution_count": 1,
      "outputs": [
        {
          "output_type": "stream",
          "name": "stdout",
          "text": [
            "Agregue el coeficiente de la variable cuadrática\n",
            "3\n",
            "Agregue el coeficiente de la variable lineal\n",
            "-5\n",
            "Agregue el término independiente\n",
            "2\n",
            "La solución de la ecuación es: \n",
            "Valor de x1: \n",
            "1.0\n",
            "Valor de x2: \n",
            "0.6666666666666666\n"
          ]
        }
      ]
    }
  ]
}